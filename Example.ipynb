{
 "cells": [
  {
   "cell_type": "code",
   "execution_count": 1,
   "metadata": {},
   "outputs": [
    {
     "name": "stderr",
     "output_type": "stream",
     "text": [
      "Using TensorFlow backend.\n",
      "/data/home/mike/anaconda3/lib/python3.6/importlib/_bootstrap.py:219: RuntimeWarning: compiletime version 3.5 of module 'tensorflow.python.framework.fast_tensor_util' does not match runtime version 3.6\n",
      "  return f(*args, **kwds)\n"
     ]
    }
   ],
   "source": [
    "# import required libraries\n",
    "import keras                                     # by default, keras will use the tensorflow backend\n",
    "from keras.datasets import mnist                 # this is the raw data we will be working with\n",
    "from keras.models import Sequential              # \"Sequential\" is a simple Keras model for sequential processing\n",
    "from keras.layers import Dense, Dropout, Flatten # some keras layers\n",
    "from keras.layers import Conv2D, MaxPooling2D    # some more keras layers\n",
    "from keras.layers import BatchNormalization      # a more sophisticated layer to speed up training and regularize\n",
    "from keras import regularizers                   # tools to avoid overfitting\n",
    "from keras import backend as K                   # a way to get the backing tensorflow library\n",
    "\n",
    "import math\n",
    "import numpy as np                               # python's numeric library\n",
    "from PIL import Image                            # python's image library\n",
    "from matplotlib import pyplot                    # plotting/image display\n",
    "\n",
    "# directive to display images and charts inline instead of in a separate window\n",
    "%matplotlib inline\n",
    "\n",
    "# for splitting the training data into a training and validation set\n",
    "import sklearn.model_selection"
   ]
  },
  {
   "cell_type": "code",
   "execution_count": 2,
   "metadata": {},
   "outputs": [
    {
     "name": "stdout",
     "output_type": "stream",
     "text": [
      "54000 training examples\n",
      "Each image is of size 28x28 and grayscale\n",
      "Pixel values are from 0 to 255\n",
      "Labels [0 1 2 3 4 5 6 7 8 9]\n",
      "10 unique classes (digits)\n"
     ]
    },
    {
     "name": "stderr",
     "output_type": "stream",
     "text": [
      "/data/home/mike/anaconda3/lib/python3.6/site-packages/sklearn/model_selection/_split.py:2026: FutureWarning: From version 0.21, test_size will always complement train_size unless both are specified.\n",
      "  FutureWarning)\n"
     ]
    },
    {
     "data": {
      "text/plain": [
       "<matplotlib.image.AxesImage at 0x7f8870dc6f60>"
      ]
     },
     "execution_count": 2,
     "metadata": {},
     "output_type": "execute_result"
    },
    {
     "data": {
      "image/png": "[encoded data removed]",
      "text/plain": [
       "<matplotlib.figure.Figure at 0x7f887ed68c50>"
      ]
     },
     "metadata": {},
     "output_type": "display_data"
    }
   ],
   "source": [
    "# load the data\n",
    "\n",
    "# the data, shuffled and split between train, validation, and test sets\n",
    "(x_train_raw, y_train_raw), (x_test, y_test) = mnist.load_data()\n",
    "x_train, x_validation, y_train, y_validation = sklearn.model_selection.train_test_split(x_train_raw, y_train_raw, train_size=0.9)\n",
    "training_example_count, image_height, image_width = x_train.shape\n",
    "num_classes = len(np.unique(y_train))\n",
    "\n",
    "print(training_example_count, 'training examples')\n",
    "print(\"Each image is of size %dx%d and grayscale\" % (image_height, image_width))\n",
    "print(\"Pixel values are from %d to %d\" % (np.min(x_train), np.max(x_train)))\n",
    "print(\"Labels\", np.unique(y_train))\n",
    "print(\"%d unique classes (digits)\" % (num_classes))\n",
    "\n",
    "def images_square_grid(images):\n",
    "    \"\"\"\n",
    "    Save images as a square grid\n",
    "    :param images: Images to be used for the grid\n",
    "    :param mode: The mode to use for images\n",
    "    :return: Image of images in a square grid\n",
    "    \"\"\"\n",
    "    # Get maximum size for square grid of images\n",
    "    save_size = math.floor(np.sqrt(images.shape[0]))\n",
    "\n",
    "    # Put images in a square arrangement\n",
    "    images_in_square = np.reshape(\n",
    "            images[:save_size*save_size],\n",
    "            (save_size, save_size, images.shape[1], images.shape[2]))\n",
    "\n",
    "    # Combine images to grid image\n",
    "    new_im = Image.new('L', (images.shape[1] * save_size, images.shape[2] * save_size))\n",
    "    for col_i, col_images in enumerate(images_in_square):\n",
    "        for image_i, image in enumerate(col_images):\n",
    "            im = Image.fromarray(image, 'L')\n",
    "            new_im.paste(im, (col_i * images.shape[1], image_i * images.shape[2]))\n",
    "\n",
    "    return np.array(new_im)\n",
    "\n",
    "images_to_display = 36\n",
    "random_images = np.array(x_train[np.random.randint(training_example_count, size=images_to_display), :, :])\n",
    "combined_image = images_square_grid(random_images)\n",
    "\n",
    "pyplot.imshow(combined_image, cmap='gray')"
   ]
  },
  {
   "cell_type": "code",
   "execution_count": 3,
   "metadata": {},
   "outputs": [
    {
     "name": "stdout",
     "output_type": "stream",
     "text": [
      "Example normalized image center sample\n",
      " [[[-0.5       ]\n",
      "  [-0.06862745]\n",
      "  [ 0.49215686]\n",
      "  [ 0.49215686]]\n",
      "\n",
      " [[-0.5       ]\n",
      "  [-0.06862745]\n",
      "  [ 0.49215686]\n",
      "  [ 0.49215686]]\n",
      "\n",
      " [[-0.5       ]\n",
      "  [-0.06862745]\n",
      "  [ 0.49215686]\n",
      "  [ 0.49215686]]\n",
      "\n",
      " [[-0.5       ]\n",
      "  [-0.06862745]\n",
      "  [ 0.49215686]\n",
      "  [ 0.49215686]]]\n"
     ]
    }
   ],
   "source": [
    "# reshape the data to image data with a single color channel\n",
    "x_train = x_train.reshape(training_example_count, image_height, image_width, 1)\n",
    "x_validation = x_validation.reshape(x_validation.shape[0], image_height, image_width, 1)\n",
    "x_test = x_test.reshape(x_test.shape[0], image_height, image_width, 1)\n",
    "input_shape = (image_height, image_width, 1)\n",
    "\n",
    "# normalize the data to have a mean near 0 and a range near 1\n",
    "x_train = x_train.astype('float32')\n",
    "x_validation = x_validation.astype('float32')\n",
    "x_test = x_test.astype('float32')\n",
    "x_train /= 255\n",
    "x_train -= 0.5\n",
    "x_validation /= 255\n",
    "x_validation -= 0.5\n",
    "x_test /= 255\n",
    "x_test -= 0.5\n",
    "\n",
    "print(\"Example normalized image center sample\\n\", x_train[0, 12:16, 12:16])"
   ]
  },
  {
   "cell_type": "code",
   "execution_count": 4,
   "metadata": {},
   "outputs": [
    {
     "name": "stdout",
     "output_type": "stream",
     "text": [
      "Example one-hot label encoding [ 0.  1.  0.  0.  0.  0.  0.  0.  0.  0.]\n"
     ]
    }
   ],
   "source": [
    "# convert raw label data into one-hot encoded matrix\n",
    "y_train_one_hot = keras.utils.to_categorical(y_train, num_classes)\n",
    "y_validation_one_hot = keras.utils.to_categorical(y_validation, num_classes)\n",
    "y_test_one_hot = keras.utils.to_categorical(y_test, num_classes)\n",
    "print(\"Example one-hot label encoding\", y_train_one_hot[0])"
   ]
  },
  {
   "cell_type": "code",
   "execution_count": 5,
   "metadata": {
    "collapsed": true
   },
   "outputs": [],
   "source": [
    "# define the simplest possible model\n",
    "model = Sequential()\n",
    "model.add(Flatten(input_shape=input_shape))\n",
    "model.add(Dense(num_classes, activation='softmax'))"
   ]
  },
  {
   "cell_type": "code",
   "execution_count": 6,
   "metadata": {
    "collapsed": true
   },
   "outputs": [],
   "source": [
    "# define a model with a hidden layer\n",
    "model = Sequential()\n",
    "model.add(Flatten(input_shape=input_shape))\n",
    "model.add(Dense(128, activation='relu'))\n",
    "model.add(Dense(num_classes, activation='softmax'))"
   ]
  },
  {
   "cell_type": "code",
   "execution_count": 7,
   "metadata": {
    "collapsed": true
   },
   "outputs": [],
   "source": [
    "# what happens if we add a few hidden layers?\n",
    "model = Sequential()\n",
    "model.add(Flatten(input_shape=input_shape))\n",
    "model.add(Dense(256, activation='relu'))\n",
    "model.add(Dense(128, activation='relu'))\n",
    "model.add(Dense(64, activation='relu'))\n",
    "model.add(Dense(32, activation='relu'))\n",
    "model.add(Dense(num_classes, activation='softmax'))"
   ]
  },
  {
   "cell_type": "code",
   "execution_count": 8,
   "metadata": {
    "collapsed": true
   },
   "outputs": [],
   "source": [
    "# define a more appropriate model\n",
    "model = Sequential()\n",
    "model.add(Conv2D(32, kernel_size=(3, 3),\n",
    "                 activation='relu',\n",
    "                 input_shape=input_shape))\n",
    "model.add(MaxPooling2D(pool_size=(2, 2)))\n",
    "model.add(Dropout(0.25))\n",
    "model.add(Conv2D(64, (3, 3), activation='relu'))\n",
    "model.add(MaxPooling2D(pool_size=(2, 2)))\n",
    "model.add(Dropout(0.25))\n",
    "model.add(Flatten())\n",
    "model.add(Dense(128, activation='relu'))\n",
    "model.add(Dropout(0.2))\n",
    "model.add(Dense(num_classes, activation='softmax'))"
   ]
  },
  {
   "cell_type": "code",
   "execution_count": 9,
   "metadata": {
    "collapsed": true
   },
   "outputs": [],
   "source": [
    "# choose the model optimization\n",
    "model.compile(loss=keras.losses.categorical_crossentropy,\n",
    "              optimizer=keras.optimizers.Adam(),\n",
    "              metrics=['accuracy'])"
   ]
  },
  {
   "cell_type": "code",
   "execution_count": 14,
   "metadata": {},
   "outputs": [
    {
     "name": "stdout",
     "output_type": "stream",
     "text": [
      "Train on 54000 samples, validate on 6000 samples\n",
      "Epoch 1/12\n",
      "54000/54000 [==============================] - 135s 3ms/step - loss: 0.1879 - acc: 0.9811 - val_loss: 0.1566 - val_acc: 0.9882\n",
      "Epoch 2/12\n",
      "54000/54000 [==============================] - 135s 3ms/step - loss: 0.1826 - acc: 0.9810 - val_loss: 0.1563 - val_acc: 0.9890\n",
      "Epoch 3/12\n",
      "54000/54000 [==============================] - 135s 3ms/step - loss: 0.1802 - acc: 0.9817 - val_loss: 0.1507 - val_acc: 0.9888\n",
      "Epoch 4/12\n",
      "54000/54000 [==============================] - 135s 3ms/step - loss: 0.1862 - acc: 0.9804 - val_loss: 0.1620 - val_acc: 0.9882\n",
      "Epoch 5/12\n",
      "54000/54000 [==============================] - 135s 3ms/step - loss: 0.1826 - acc: 0.9814 - val_loss: 0.1588 - val_acc: 0.9890\n",
      "Epoch 6/12\n",
      "54000/54000 [==============================] - 135s 3ms/step - loss: 0.1838 - acc: 0.9818 - val_loss: 0.1507 - val_acc: 0.9892\n",
      "Epoch 7/12\n",
      "54000/54000 [==============================] - 135s 3ms/step - loss: 0.1782 - acc: 0.9819 - val_loss: 0.1552 - val_acc: 0.9875\n",
      "Epoch 8/12\n",
      "54000/54000 [==============================] - 135s 3ms/step - loss: 0.1792 - acc: 0.9810 - val_loss: 0.1550 - val_acc: 0.9888\n",
      "Epoch 9/12\n",
      "54000/54000 [==============================] - 135s 3ms/step - loss: 0.1792 - acc: 0.9813 - val_loss: 0.1494 - val_acc: 0.9908\n",
      "Epoch 10/12\n",
      "54000/54000 [==============================] - 135s 3ms/step - loss: 0.1756 - acc: 0.9817 - val_loss: 0.1529 - val_acc: 0.9872\n",
      "Epoch 11/12\n",
      "54000/54000 [==============================] - 135s 3ms/step - loss: 0.1744 - acc: 0.9813 - val_loss: 0.1479 - val_acc: 0.9883\n",
      "Epoch 12/12\n",
      "54000/54000 [==============================] - 135s 3ms/step - loss: 0.1759 - acc: 0.9814 - val_loss: 0.1476 - val_acc: 0.9903\n"
     ]
    },
    {
     "data": {
      "text/plain": [
       "<keras.callbacks.History at 0x7f8870d4a438>"
      ]
     },
     "execution_count": 14,
     "metadata": {},
     "output_type": "execute_result"
    }
   ],
   "source": [
    "# train\n",
    "\n",
    "# define training hyperparameters\n",
    "batch_size = 64   # the number of examples used in each iteration\n",
    "epochs = 12        # the number of passes through the data\n",
    "\n",
    "# run the training\n",
    "model.fit(x_train, y_train_one_hot,\n",
    "          batch_size=batch_size,\n",
    "          epochs=epochs,\n",
    "          verbose=1,\n",
    "          validation_data=(x_validation, y_validation_one_hot))"
   ]
  },
  {
   "cell_type": "code",
   "execution_count": 15,
   "metadata": {},
   "outputs": [
    {
     "name": "stdout",
     "output_type": "stream",
     "text": [
      "Test loss: 0.146513682461\n",
      "Test accuracy: 0.9906\n"
     ]
    }
   ],
   "source": [
    "# evaluate performance on test data\n",
    "\n",
    "score = model.evaluate(x_test, y_test_one_hot, verbose=0)\n",
    "print('Test loss:', score[0])\n",
    "print('Test accuracy:', score[1])"
   ]
  },
  {
   "cell_type": "code",
   "execution_count": 13,
   "metadata": {},
   "outputs": [
    {
     "name": "stdout",
     "output_type": "stream",
     "text": [
      "Train on 54000 samples, validate on 6000 samples\n",
      "Epoch 1/48\n",
      "54000/54000 [==============================] - 135s 3ms/step - loss: 0.7188 - acc: 0.9169 - val_loss: 0.3975 - val_acc: 0.9815\n",
      "Epoch 2/48\n",
      "54000/54000 [==============================] - 135s 2ms/step - loss: 0.3610 - acc: 0.9699 - val_loss: 0.2662 - val_acc: 0.9822\n",
      "Epoch 3/48\n",
      "54000/54000 [==============================] - 135s 2ms/step - loss: 0.2766 - acc: 0.9733 - val_loss: 0.2204 - val_acc: 0.9855\n",
      "Epoch 4/48\n",
      "54000/54000 [==============================] - 135s 2ms/step - loss: 0.2528 - acc: 0.9748 - val_loss: 0.2167 - val_acc: 0.9852\n",
      "Epoch 5/48\n",
      "54000/54000 [==============================] - 135s 2ms/step - loss: 0.2433 - acc: 0.9773 - val_loss: 0.2178 - val_acc: 0.9837\n",
      "Epoch 6/48\n",
      "54000/54000 [==============================] - 135s 2ms/step - loss: 0.2428 - acc: 0.9767 - val_loss: 0.2053 - val_acc: 0.9852\n",
      "Epoch 7/48\n",
      "54000/54000 [==============================] - 135s 2ms/step - loss: 0.2364 - acc: 0.9782 - val_loss: 0.2226 - val_acc: 0.9820\n",
      "Epoch 8/48\n",
      "54000/54000 [==============================] - 135s 2ms/step - loss: 0.2405 - acc: 0.9773 - val_loss: 0.2212 - val_acc: 0.9838\n",
      "Epoch 9/48\n",
      "54000/54000 [==============================] - 135s 2ms/step - loss: 0.2378 - acc: 0.9784 - val_loss: 0.2067 - val_acc: 0.9843\n",
      "Epoch 10/48\n",
      "54000/54000 [==============================] - 135s 2ms/step - loss: 0.2354 - acc: 0.9784 - val_loss: 0.2175 - val_acc: 0.9858\n",
      "Epoch 11/48\n",
      "54000/54000 [==============================] - 135s 2ms/step - loss: 0.2376 - acc: 0.9794 - val_loss: 0.2110 - val_acc: 0.9843\n",
      "Epoch 12/48\n",
      "54000/54000 [==============================] - 135s 2ms/step - loss: 0.2317 - acc: 0.9793 - val_loss: 0.2094 - val_acc: 0.9850\n",
      "Epoch 13/48\n",
      "54000/54000 [==============================] - 135s 2ms/step - loss: 0.2321 - acc: 0.9785 - val_loss: 0.2087 - val_acc: 0.9843\n",
      "Epoch 14/48\n",
      "54000/54000 [==============================] - 135s 2ms/step - loss: 0.2262 - acc: 0.9794 - val_loss: 0.1929 - val_acc: 0.9887\n",
      "Epoch 15/48\n",
      "54000/54000 [==============================] - 135s 2ms/step - loss: 0.2269 - acc: 0.9792 - val_loss: 0.1945 - val_acc: 0.9855\n",
      "Epoch 16/48\n",
      "54000/54000 [==============================] - 135s 2ms/step - loss: 0.2320 - acc: 0.9789 - val_loss: 0.1987 - val_acc: 0.9887\n",
      "Epoch 17/48\n",
      "54000/54000 [==============================] - 135s 2ms/step - loss: 0.2255 - acc: 0.9797 - val_loss: 0.2000 - val_acc: 0.9858\n",
      "Epoch 18/48\n",
      "54000/54000 [==============================] - 135s 2ms/step - loss: 0.2207 - acc: 0.9800 - val_loss: 0.2009 - val_acc: 0.9877\n",
      "Epoch 19/48\n",
      "54000/54000 [==============================] - 135s 2ms/step - loss: 0.2255 - acc: 0.9802 - val_loss: 0.1911 - val_acc: 0.9872\n",
      "Epoch 20/48\n",
      "54000/54000 [==============================] - 135s 2ms/step - loss: 0.2224 - acc: 0.9802 - val_loss: 0.2006 - val_acc: 0.9860\n",
      "Epoch 21/48\n",
      "54000/54000 [==============================] - 135s 2ms/step - loss: 0.2213 - acc: 0.9794 - val_loss: 0.1917 - val_acc: 0.9868\n",
      "Epoch 22/48\n",
      "54000/54000 [==============================] - 135s 2ms/step - loss: 0.2187 - acc: 0.9794 - val_loss: 0.1936 - val_acc: 0.9863\n",
      "Epoch 23/48\n",
      "54000/54000 [==============================] - 135s 2ms/step - loss: 0.2160 - acc: 0.9803 - val_loss: 0.1901 - val_acc: 0.9848\n",
      "Epoch 24/48\n",
      "54000/54000 [==============================] - 135s 2ms/step - loss: 0.2127 - acc: 0.9807 - val_loss: 0.1937 - val_acc: 0.9850\n",
      "Epoch 25/48\n",
      "54000/54000 [==============================] - 135s 2ms/step - loss: 0.2161 - acc: 0.9795 - val_loss: 0.1840 - val_acc: 0.9882\n",
      "Epoch 26/48\n",
      "54000/54000 [==============================] - 135s 2ms/step - loss: 0.2093 - acc: 0.9805 - val_loss: 0.1762 - val_acc: 0.9885\n",
      "Epoch 27/48\n",
      "54000/54000 [==============================] - 135s 2ms/step - loss: 0.2137 - acc: 0.9800 - val_loss: 0.1893 - val_acc: 0.9865\n",
      "Epoch 28/48\n",
      "54000/54000 [==============================] - 135s 2ms/step - loss: 0.2091 - acc: 0.9808 - val_loss: 0.1856 - val_acc: 0.9880\n",
      "Epoch 29/48\n",
      "54000/54000 [==============================] - 135s 2ms/step - loss: 0.2028 - acc: 0.9812 - val_loss: 0.1923 - val_acc: 0.9888\n",
      "Epoch 30/48\n",
      "54000/54000 [==============================] - 135s 2ms/step - loss: 0.2131 - acc: 0.9803 - val_loss: 0.1819 - val_acc: 0.9880\n",
      "Epoch 31/48\n",
      "54000/54000 [==============================] - 135s 2ms/step - loss: 0.2133 - acc: 0.9799 - val_loss: 0.1766 - val_acc: 0.9888\n",
      "Epoch 32/48\n",
      "54000/54000 [==============================] - 135s 2ms/step - loss: 0.2063 - acc: 0.9806 - val_loss: 0.1794 - val_acc: 0.9880\n",
      "Epoch 33/48\n",
      "54000/54000 [==============================] - 135s 2ms/step - loss: 0.2073 - acc: 0.9803 - val_loss: 0.1829 - val_acc: 0.9873\n",
      "Epoch 34/48\n",
      "54000/54000 [==============================] - 135s 2ms/step - loss: 0.2018 - acc: 0.9807 - val_loss: 0.1815 - val_acc: 0.9892\n",
      "Epoch 35/48\n",
      "54000/54000 [==============================] - 135s 2ms/step - loss: 0.2031 - acc: 0.9806 - val_loss: 0.1714 - val_acc: 0.9892\n",
      "Epoch 36/48\n",
      "54000/54000 [==============================] - 135s 2ms/step - loss: 0.2012 - acc: 0.9808 - val_loss: 0.1867 - val_acc: 0.9845\n",
      "Epoch 37/48\n",
      "54000/54000 [==============================] - 135s 2ms/step - loss: 0.1972 - acc: 0.9810 - val_loss: 0.1887 - val_acc: 0.9837\n",
      "Epoch 38/48\n",
      "54000/54000 [==============================] - 135s 2ms/step - loss: 0.1948 - acc: 0.9812 - val_loss: 0.1714 - val_acc: 0.9868\n",
      "Epoch 39/48\n",
      "54000/54000 [==============================] - 135s 2ms/step - loss: 0.1952 - acc: 0.9811 - val_loss: 0.1630 - val_acc: 0.9900\n",
      "Epoch 40/48\n",
      "54000/54000 [==============================] - 135s 2ms/step - loss: 0.1981 - acc: 0.9801 - val_loss: 0.1649 - val_acc: 0.9900\n",
      "Epoch 41/48\n",
      "54000/54000 [==============================] - 135s 2ms/step - loss: 0.1962 - acc: 0.9798 - val_loss: 0.1709 - val_acc: 0.9880\n",
      "Epoch 42/48\n",
      "54000/54000 [==============================] - 135s 2ms/step - loss: 0.1943 - acc: 0.9810 - val_loss: 0.1773 - val_acc: 0.9877\n",
      "Epoch 43/48\n",
      "54000/54000 [==============================] - 135s 2ms/step - loss: 0.1917 - acc: 0.9811 - val_loss: 0.1728 - val_acc: 0.9870\n",
      "Epoch 44/48\n",
      "54000/54000 [==============================] - 135s 2ms/step - loss: 0.1888 - acc: 0.9807 - val_loss: 0.1603 - val_acc: 0.9893\n",
      "Epoch 45/48\n",
      "54000/54000 [==============================] - 135s 2ms/step - loss: 0.1838 - acc: 0.9828 - val_loss: 0.1630 - val_acc: 0.9888\n",
      "Epoch 46/48\n",
      "54000/54000 [==============================] - 135s 2ms/step - loss: 0.1934 - acc: 0.9802 - val_loss: 0.1646 - val_acc: 0.9877\n",
      "Epoch 47/48\n",
      "54000/54000 [==============================] - 135s 2ms/step - loss: 0.1857 - acc: 0.9820 - val_loss: 0.1667 - val_acc: 0.9863\n",
      "Epoch 48/48\n",
      "54000/54000 [==============================] - 135s 2ms/step - loss: 0.1847 - acc: 0.9813 - val_loss: 0.1645 - val_acc: 0.9892\n",
      "Test loss: 0.157042350721\n",
      "Test accuracy: 0.9896\n"
     ]
    }
   ],
   "source": [
    "## define a more sophisticated model\n",
    "# this model will take longer to train but achieve better accuracy\n",
    "model = Sequential()\n",
    "model.add(Conv2D(32, kernel_size=(3, 3),\n",
    "                 activation='relu',\n",
    "                 input_shape=input_shape,\n",
    "                 kernel_regularizer=regularizers.l2(0.001)))\n",
    "model.add(BatchNormalization())\n",
    "model.add(MaxPooling2D(pool_size=(2, 2)))\n",
    "model.add(Dropout(0.25))\n",
    "\n",
    "model.add(Conv2D(64, (3, 3), activation='relu', kernel_regularizer=regularizers.l2(0.001)))\n",
    "model.add(BatchNormalization())\n",
    "model.add(MaxPooling2D(pool_size=(2, 2)))\n",
    "model.add(Dropout(0.25))\n",
    "\n",
    "model.add(Conv2D(128, (3, 3), activation='relu', kernel_regularizer=regularizers.l2(0.001)))\n",
    "model.add(BatchNormalization())\n",
    "model.add(Dropout(0.3))\n",
    "\n",
    "model.add(Flatten())\n",
    "\n",
    "model.add(Dense(256, activation='relu', kernel_regularizer=regularizers.l2(0.001)))\n",
    "model.add(BatchNormalization())\n",
    "model.add(Dropout(0.4))\n",
    "\n",
    "model.add(Dense(128, activation='relu'))\n",
    "model.add(Dropout(0.2))\n",
    "model.add(Dense(64, activation='relu'))\n",
    "\n",
    "model.add(Dense(num_classes, activation='softmax'))\n",
    "\n",
    "model.compile(loss=keras.losses.categorical_crossentropy,\n",
    "              optimizer=keras.optimizers.Adam(),\n",
    "              metrics=['accuracy'])\n",
    "\n",
    "batch_size = 64\n",
    "epochs = 48\n",
    "\n",
    "# run the training\n",
    "model.fit(x_train, y_train_one_hot,\n",
    "          batch_size=batch_size,\n",
    "          epochs=epochs,\n",
    "          verbose=1,\n",
    "          validation_data=(x_validation, y_validation_one_hot))\n",
    "\n",
    "score = model.evaluate(x_test, y_test_one_hot, verbose=0)\n",
    "print('Test loss:', score[0])\n",
    "print('Test accuracy:', score[1])"
   ]
  },
  {
   "cell_type": "code",
   "execution_count": null,
   "metadata": {
    "collapsed": true
   },
   "outputs": [],
   "source": []
  }
 ],
 "metadata": {
  "kernelspec": {
   "display_name": "Python 3",
   "language": "python",
   "name": "python3"
  },
  "language_info": {
   "codemirror_mode": {
    "name": "ipython",
    "version": 3
   },
   "file_extension": ".py",
   "mimetype": "text/x-python",
   "name": "python",
   "nbconvert_exporter": "python",
   "pygments_lexer": "ipython3",
   "version": "3.6.3"
  }
 },
 "nbformat": 4,
 "nbformat_minor": 2
}
